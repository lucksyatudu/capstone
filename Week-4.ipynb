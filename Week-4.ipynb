{
 "cells": [
  {
   "cell_type": "markdown",
   "metadata": {},
   "source": [
    "# Segmenting and Clustering Neighborhoods in Fredericton, NB\n",
    "## Applied Data Science Capstone Week 4 Peer-Graded Assignment"
   ]
  },
  {
   "cell_type": "markdown",
   "metadata": {},
   "source": [
    "## Introduction to the opportunity\n",
    "Fredericton is the Capital City of the only Canadian bilingual Province of New Brunswick and is beautifully located on the banks of the Saint John River.  While one of the least populated provincial capital cities with a population base of less than 60 thousand residents, it offers a wide spectrum of venues and is a governement, university and cultural hub.  \n",
    "\n",
    "As the city grows and develops, it becomes increasingly important to examine and understand it quantitiatively. The City of Fredericton provides open data for everyone and encourages entrepreneurial use to develop services for the benefit of its ciitzens.  \n",
    "\n",
    "Developers, policy makers and/or city planners have an interest in answering the following questions:\n",
    "1. What neighbourhoods have the highest crime?\n",
    "2. Is population density correlated to crime level?\n",
    "3. Using Foursquare data, what venues are most common in different locations within the city?\n",
    "4. Does the Knowledge Park really need a coffee shop?"
   ]
  },
  {
   "cell_type": "markdown",
   "metadata": {},
   "source": [
    "## Data\n",
    "\n",
    "#### To understand and explore we will need the following City of Fredericton Open Data:  \n",
    "1.  Open Data Site:  http://data-fredericton.opendata.arcgis.com/\n",
    "2. Fredericton Neighbourhoods:  http://data-fredericton.opendata.arcgis.com/datasets/neighbourhoods--quartiers\n",
    "3. Fredericton Crime by Neighbourhood:  http://data-fredericton.opendata.arcgis.com/datasets/crime-by-neighbourhood-2017--crime-par-quartier-2017\n",
    "4.  Fredericton Census Tract Demographics:  http://data-fredericton.opendata.arcgis.com/datasets/census-tract-demographics--donn%C3%A9es-d%C3%A9mographiques-du-secteur-de-recensement\n",
    "5.  Fredericton locations of interest:  https://github.com/lucksyatudu/capstone/blob/master/FrederictonLocations.xlsx\n",
    "6.  Foursquare Developers Access to venue data:  https://foursquare.com/\n",
    "\n",
    "Using this data will allow exploration and examination to answer the questions.  The neighbourhood data will enable us to properly group crime by neighbourhood.  The Census data will enable us to then compare the population density to examine if areas of highest crime are also most densely populated. Fredericton locations of interest will then allow us to cluster and quantitatively understand the venues most common to that location.\n",
    "\n",
    "This is going to be interesting..."
   ]
  },
  {
   "cell_type": "code",
   "execution_count": null,
   "metadata": {},
   "outputs": [],
   "source": []
  }
 ],
 "metadata": {
  "kernelspec": {
   "display_name": "Python 3.5",
   "language": "python",
   "name": "python3"
  },
  "language_info": {
   "codemirror_mode": {
    "name": "ipython",
    "version": 3
   },
   "file_extension": ".py",
   "mimetype": "text/x-python",
   "name": "python",
   "nbconvert_exporter": "python",
   "pygments_lexer": "ipython3",
   "version": "3.5.5"
  }
 },
 "nbformat": 4,
 "nbformat_minor": 2
}
